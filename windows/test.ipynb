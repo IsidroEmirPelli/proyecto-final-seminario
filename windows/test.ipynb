{
 "cells": [
  {
   "cell_type": "code",
   "execution_count": 1,
   "metadata": {},
   "outputs": [],
   "source": [
    "from csv import reader\n",
    "import pandas as pd\n",
    "import PySimpleGUI as sg\n",
    "import os\n",
    "import numpy as np\n"
   ]
  },
  {
   "cell_type": "code",
   "execution_count": 4,
   "metadata": {},
   "outputs": [],
   "source": [
    "path_csv = os.path.abspath(os.path.join(os.path.dirname('__file__'), '..', 'users'))\n",
    "path_scores = os.path.join(path_csv, 'scores.csv')\n",
    "\n",
    "scores_dicctionary = {'facil': [], 'normal': [], 'dificil': []}\n",
    "headings_array = [\"FACIL\", \"NORMAL\", \"DIFICIL\"]\n",
    "headings_facil =[\"Facil\"]\n",
    "headings_normal = [\"Normal\",\"Dificil\"]"
   ]
  },
  {
   "cell_type": "code",
   "execution_count": 5,
   "metadata": {},
   "outputs": [],
   "source": [
    "def load_score_dicctionary():\n",
    "        \"\"\" funcion que lee el archivo csv y devuelve un diccionario con key: dificultad y value: lista de tuplas \"\"\"\n",
    "        with open(path_scores, 'r') as csv_file:\n",
    "            csv_reader = reader(csv_file, delimiter=',')\n",
    "            for row in csv_reader:\n",
    "                scores_dicctionary[row[1]].append((row[0], row[2]))\n",
    "        return scores_dicctionary"
   ]
  },
  {
   "cell_type": "code",
   "execution_count": 6,
   "metadata": {},
   "outputs": [
    {
     "data": {
      "text/plain": [
       "{'facil': [('dkjsn', '800'),\n",
       "  ('dhhhh', '10'),\n",
       "  ('dkdsn', '80'),\n",
       "  ('dhffh', '880'),\n",
       "  ('dkjsn', '800'),\n",
       "  ('dhhhh', '10'),\n",
       "  ('dkdsn', '80'),\n",
       "  ('dhffh', '880'),\n",
       "  ('dkjsn', '800'),\n",
       "  ('dhhhh', '10'),\n",
       "  ('dkdsn', '80'),\n",
       "  ('dhffh', '880'),\n",
       "  ('dkjsn', '800'),\n",
       "  ('dhhhh', '10'),\n",
       "  ('dkdsn', '80'),\n",
       "  ('dhffh', '880'),\n",
       "  ('dkjsn', '800'),\n",
       "  ('dhhhh', '10'),\n",
       "  ('dkdsn', '80'),\n",
       "  ('dhffh', '880'),\n",
       "  ('dkjsn', '800'),\n",
       "  ('dhhhh', '10'),\n",
       "  ('dkdsn', '80'),\n",
       "  ('dhffh', '880'),\n",
       "  ('dkjsn', '800'),\n",
       "  ('dhhhh', '10'),\n",
       "  ('dkdsn', '80'),\n",
       "  ('dhffh', '880')],\n",
       " 'normal': [('aaaa', '100'),\n",
       "  ('aaaa', '100'),\n",
       "  ('aaaa', '100'),\n",
       "  ('aaaa', '100'),\n",
       "  ('aaaa', '100'),\n",
       "  ('aaaa', '100'),\n",
       "  ('aaaa', '100'),\n",
       "  ('aaaa', '100'),\n",
       "  ('aaaa', '100'),\n",
       "  ('aaaa', '100'),\n",
       "  ('aaaa', '100')],\n",
       " 'dificil': []}"
      ]
     },
     "execution_count": 6,
     "metadata": {},
     "output_type": "execute_result"
    }
   ],
   "source": [
    "load_score_dicctionary()"
   ]
  },
  {
   "cell_type": "code",
   "execution_count": 9,
   "metadata": {},
   "outputs": [
    {
     "data": {
      "text/plain": [
       "{'facil': [('dhffh', '880'),\n",
       "  ('dhffh', '880'),\n",
       "  ('dhffh', '880'),\n",
       "  ('dhffh', '880'),\n",
       "  ('dhffh', '880'),\n",
       "  ('dhffh', '880'),\n",
       "  ('dhffh', '880'),\n",
       "  ('dkjsn', '800'),\n",
       "  ('dkjsn', '800'),\n",
       "  ('dkjsn', '800'),\n",
       "  ('dkjsn', '800'),\n",
       "  ('dkjsn', '800'),\n",
       "  ('dkjsn', '800'),\n",
       "  ('dkjsn', '800'),\n",
       "  ('dkdsn', '80'),\n",
       "  ('dkdsn', '80'),\n",
       "  ('dkdsn', '80'),\n",
       "  ('dkdsn', '80'),\n",
       "  ('dkdsn', '80'),\n",
       "  ('dkdsn', '80'),\n",
       "  ('dkdsn', '80'),\n",
       "  ('dhhhh', '10'),\n",
       "  ('dhhhh', '10'),\n",
       "  ('dhhhh', '10'),\n",
       "  ('dhhhh', '10'),\n",
       "  ('dhhhh', '10'),\n",
       "  ('dhhhh', '10'),\n",
       "  ('dhhhh', '10')],\n",
       " 'normal': [('aaaa', '100'),\n",
       "  ('aaaa', '100'),\n",
       "  ('aaaa', '100'),\n",
       "  ('aaaa', '100'),\n",
       "  ('aaaa', '100'),\n",
       "  ('aaaa', '100'),\n",
       "  ('aaaa', '100'),\n",
       "  ('aaaa', '100'),\n",
       "  ('aaaa', '100'),\n",
       "  ('aaaa', '100'),\n",
       "  ('aaaa', '100')],\n",
       " 'dificil': []}"
      ]
     },
     "execution_count": 9,
     "metadata": {},
     "output_type": "execute_result"
    }
   ],
   "source": [
    "def sort_scores(dicctionary):\n",
    "        \"\"\" funcion que ordena los scores de mayor a menor en el dicionario\"\"\"\n",
    "        for key in dicctionary:\n",
    "            dicctionary[key].sort(key=lambda tup: int(tup[1]), reverse=True)\n",
    "        return dicctionary\n",
    "\n",
    "sort_scores(scores_dicctionary)"
   ]
  },
  {
   "cell_type": "code",
   "execution_count": 15,
   "metadata": {},
   "outputs": [
    {
     "data": {
      "text/plain": [
       "{'facil': 0, 'normal': 0, 'dificil': 0}"
      ]
     },
     "execution_count": 15,
     "metadata": {},
     "output_type": "execute_result"
    }
   ],
   "source": [
    "def calculate_average(dicctionary):\n",
    "    \"\"\" funcion que calcula el promedio de cada usuaro (puntaje total / cantidad de partidas) y los guarda en un diccionario \"\"\"\n",
    "    try:   \n",
    "        average_dicctionary = {}\n",
    "        for key in dicctionary:\n",
    "            average_dicctionary[key] = sum(int(tup[1]) for tup in dicctionary[key]) / len(dicctionary[key])\n",
    "    except ZeroDivisionError:\n",
    "        average_dicctionary = {}\n",
    "        for key in dicctionary:\n",
    "            average_dicctionary[key] = 0\n",
    "    return average_dicctionary\n",
    "\n",
    "calculate_average(scores_dicctionary)"
   ]
  },
  {
   "cell_type": "code",
   "execution_count": 17,
   "metadata": {},
   "outputs": [
    {
     "data": {
      "text/plain": [
       "{'dhffh': 442.5, 'dkjsn': 442.5, 'dkdsn': 442.5, 'dhhhh': 442.5, 'aaaa': 100.0}"
      ]
     },
     "execution_count": 17,
     "metadata": {},
     "output_type": "execute_result"
    }
   ],
   "source": [
    "def create_average_dicctionary(dicctionary):\n",
    "    \"\"\" funcion que crea un diccionario con los promedios de puntajes de cada jugador\"\"\"\n",
    "    average_dicctionary = {}\n",
    "    try:\n",
    "        for key in dicctionary:\n",
    "            #para cada key calcular el promedio de los scores de cada usuario\n",
    "            average_dicctionary[key] = np.mean([int(tup[1]) for tup in dicctionary[key]])            \n",
    "    except ZeroDivisionError:\n",
    "        average_dicctionary = {}\n",
    "        for key in dicctionary:\n",
    "            average_dicctionary[key] = 0\n",
    "    return average_dicctionary\n",
    "\n",
    "create_average_dicctionary(scores_dicctionary)\n"
   ]
  },
  {
   "cell_type": "code",
   "execution_count": null,
   "metadata": {},
   "outputs": [],
   "source": []
  }
 ],
 "metadata": {
  "kernelspec": {
   "display_name": "Python 3.10.5 ('grupo20')",
   "language": "python",
   "name": "python3"
  },
  "language_info": {
   "name": "python",
   "version": "3.10.5"
  },
  "orig_nbformat": 4,
  "vscode": {
   "interpreter": {
    "hash": "0fa4d99e435b5f2fe46ae23fd5ebebffca7fc9560893652d2d75dd1854ce3907"
   }
  }
 },
 "nbformat": 4,
 "nbformat_minor": 2
}
