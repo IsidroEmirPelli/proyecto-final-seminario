{
 "cells": [
  {
   "cell_type": "code",
   "execution_count": 4,
   "metadata": {},
   "outputs": [],
   "source": [
    "import pandas as pd\n",
    "from csv import reader\n",
    "import PySimpleGUI as sg\n",
    "import os"
   ]
  },
  {
   "cell_type": "code",
   "execution_count": 6,
   "metadata": {},
   "outputs": [],
   "source": [
    "path_csv = os.path.abspath(os.path.join(os.path.dirname(\"__file__\"), '..', 'data_sets'))\n",
    "path_scores = os.path.join(path_csv, 'scores.csv')\n",
    "\n",
    "scores_dicctionary = {'facil': [], 'normal': [], 'dificil': [], 'experto': []}\n",
    "\n",
    "\n",
    "headings_array = [\"facil\", \"normal\", \"dificil\", \"experto\"]"
   ]
  },
  {
   "cell_type": "code",
   "execution_count": 7,
   "metadata": {},
   "outputs": [],
   "source": [
    "def load_score_dicctionary():\n",
    "    with open(path_scores, 'r') as csv_file:\n",
    "        csv_reader = reader(csv_file,delimiter=',')\n",
    "        for row in csv_reader:\n",
    "            scores_dicctionary[row[1]].append((row[0], row[2]))\n",
    "            scores_dicctionary[row[1]].sort(key=lambda tup: tup[1], reverse=True)\n",
    "            \n",
    "    return scores_dicctionary  "
   ]
  },
  {
   "cell_type": "code",
   "execution_count": 8,
   "metadata": {},
   "outputs": [
    {
     "data": {
      "text/plain": [
       "{'facil': [('juan', '600'), ('diego', '400')],\n",
       " 'normal': [('ale', '340'), ('leo', '200')],\n",
       " 'dificil': [('lucia', '450'), ('ana', '300')],\n",
       " 'experto': [('pedro', '250'), ('pepe', '10')]}"
      ]
     },
     "execution_count": 8,
     "metadata": {},
     "output_type": "execute_result"
    }
   ],
   "source": [
    "load_score_dicctionary()"
   ]
  },
  {
   "cell_type": "code",
   "execution_count": 14,
   "metadata": {},
   "outputs": [
    {
     "data": {
      "text/plain": [
       "{'facil': ['juan: 600', 'diego: 400'],\n",
       " 'normal': ['ale: 340', 'leo: 200'],\n",
       " 'dificil': ['lucia: 450', 'ana: 300'],\n",
       " 'experto': ['pedro: 250', 'pepe: 10']}"
      ]
     },
     "execution_count": 14,
     "metadata": {},
     "output_type": "execute_result"
    }
   ],
   "source": [
    "def convert_touple_to_string():\n",
    "    for key in scores_dicctionary:\n",
    "        scores_dicctionary[key] = [str(tup[0]) + \": \" + str(tup[1]) for tup in scores_dicctionary[key]]\n",
    "    return scores_dicctionary\n",
    "\n",
    "scores_dicctionary"
   ]
  },
  {
   "cell_type": "code",
   "execution_count": 15,
   "metadata": {},
   "outputs": [
    {
     "data": {
      "text/html": [
       "<div>\n",
       "<style scoped>\n",
       "    .dataframe tbody tr th:only-of-type {\n",
       "        vertical-align: middle;\n",
       "    }\n",
       "\n",
       "    .dataframe tbody tr th {\n",
       "        vertical-align: top;\n",
       "    }\n",
       "\n",
       "    .dataframe thead th {\n",
       "        text-align: right;\n",
       "    }\n",
       "</style>\n",
       "<table border=\"1\" class=\"dataframe\">\n",
       "  <thead>\n",
       "    <tr style=\"text-align: right;\">\n",
       "      <th></th>\n",
       "      <th>facil</th>\n",
       "      <th>normal</th>\n",
       "      <th>dificil</th>\n",
       "      <th>experto</th>\n",
       "    </tr>\n",
       "  </thead>\n",
       "  <tbody>\n",
       "    <tr>\n",
       "      <th>0</th>\n",
       "      <td>juan: 600</td>\n",
       "      <td>ale: 340</td>\n",
       "      <td>lucia: 450</td>\n",
       "      <td>pedro: 250</td>\n",
       "    </tr>\n",
       "    <tr>\n",
       "      <th>1</th>\n",
       "      <td>diego: 400</td>\n",
       "      <td>leo: 200</td>\n",
       "      <td>ana: 300</td>\n",
       "      <td>pepe: 10</td>\n",
       "    </tr>\n",
       "  </tbody>\n",
       "</table>\n",
       "</div>"
      ],
      "text/plain": [
       "        facil    normal     dificil     experto\n",
       "0   juan: 600  ale: 340  lucia: 450  pedro: 250\n",
       "1  diego: 400  leo: 200    ana: 300    pepe: 10"
      ]
     },
     "execution_count": 15,
     "metadata": {},
     "output_type": "execute_result"
    }
   ],
   "source": [
    "df = pd.DataFrame(scores_dicctionary)\n",
    "df"
   ]
  },
  {
   "cell_type": "code",
   "execution_count": 17,
   "metadata": {},
   "outputs": [
    {
     "data": {
      "text/plain": [
       "facil      object\n",
       "normal     object\n",
       "dificil    object\n",
       "experto    object\n",
       "dtype: object"
      ]
     },
     "execution_count": 17,
     "metadata": {},
     "output_type": "execute_result"
    }
   ],
   "source": [
    "df.dtypes"
   ]
  },
  {
   "cell_type": "code",
   "execution_count": null,
   "metadata": {},
   "outputs": [],
   "source": []
  },
  {
   "cell_type": "code",
   "execution_count": null,
   "metadata": {},
   "outputs": [],
   "source": []
  }
 ],
 "metadata": {
  "interpreter": {
   "hash": "916dbcbb3f70747c44a77c7bcd40155683ae19c65e1c03b4aa3499c5328201f1"
  },
  "kernelspec": {
   "display_name": "Python 3 (ipykernel)",
   "language": "python",
   "name": "python3"
  },
  "language_info": {
   "codemirror_mode": {
    "name": "ipython",
    "version": 3
   },
   "file_extension": ".py",
   "mimetype": "text/x-python",
   "name": "python",
   "nbconvert_exporter": "python",
   "pygments_lexer": "ipython3",
   "version": "3.10.4"
  }
 },
 "nbformat": 4,
 "nbformat_minor": 2
}
