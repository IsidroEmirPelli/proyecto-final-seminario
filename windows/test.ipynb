{
 "cells": [
  {
   "cell_type": "code",
   "execution_count": 28,
   "metadata": {},
   "outputs": [],
   "source": [
    "import pandas as pd\n",
    "from csv import reader\n",
    "import PySimpleGUI as sg\n",
    "import os\n",
    "import numpy as np"
   ]
  },
  {
   "cell_type": "code",
   "execution_count": 29,
   "metadata": {},
   "outputs": [],
   "source": [
    "path_csv = os.path.abspath(os.path.join(os.path.dirname(\"__file__\"), '..', 'data_sets'))\n",
    "path_scores = os.path.join(path_csv, 'scores.csv')\n",
    "\n",
    "scores_dicctionary = {'facil': [], 'normal': [], 'dificil': [], 'experto': []}\n",
    "\n",
    "\n",
    "headings_array = [\"facil\", \"normal\", \"dificil\", \"experto\"]"
   ]
  },
  {
   "cell_type": "code",
   "execution_count": 30,
   "metadata": {},
   "outputs": [],
   "source": [
    "def load_score_dicctionary():\n",
    "    with open(path_scores, 'r') as csv_file:\n",
    "        csv_reader = reader(csv_file,delimiter=',')\n",
    "        for row in csv_reader:\n",
    "            scores_dicctionary[row[1]].append((row[0], row[2]))\n",
    "            scores_dicctionary[row[1]].sort(key=lambda tup: tup[1], reverse=True)\n",
    "            \n",
    "    return scores_dicctionary  "
   ]
  },
  {
   "cell_type": "code",
   "execution_count": 31,
   "metadata": {},
   "outputs": [
    {
     "data": {
      "text/plain": [
       "{'facil': [('dkjsn', '800'),\n",
       "  ('juan', '600'),\n",
       "  ('diego', '400'),\n",
       "  ('dss', '240'),\n",
       "  ('dhhhh', '10')],\n",
       " 'normal': [('ale', '340'), ('leo', '200')],\n",
       " 'dificil': [('lucia', '450'), ('ana', '300')],\n",
       " 'experto': [('pedro8', '950'),\n",
       "  ('pedro7', '850'),\n",
       "  ('pedro6', '750'),\n",
       "  ('pedro5', '650'),\n",
       "  ('pedro4', '550'),\n",
       "  ('pedro2', '50'),\n",
       "  ('pedro3', '450'),\n",
       "  ('pedro1', '350'),\n",
       "  ('pedro', '250'),\n",
       "  ('pepe', '10'),\n",
       "  ('pedro', '1')]}"
      ]
     },
     "execution_count": 31,
     "metadata": {},
     "output_type": "execute_result"
    }
   ],
   "source": [
    "load_score_dicctionary()"
   ]
  },
  {
   "cell_type": "code",
   "execution_count": 32,
   "metadata": {},
   "outputs": [
    {
     "data": {
      "text/plain": [
       "{'facil': ['dkjsn: 800', 'juan: 600', 'diego: 400', 'dss: 240', 'dhhhh: 10'],\n",
       " 'normal': ['ale: 340', 'leo: 200'],\n",
       " 'dificil': ['lucia: 450', 'ana: 300'],\n",
       " 'experto': ['pedro8: 950',\n",
       "  'pedro7: 850',\n",
       "  'pedro6: 750',\n",
       "  'pedro5: 650',\n",
       "  'pedro4: 550',\n",
       "  'pedro2: 50',\n",
       "  'pedro3: 450',\n",
       "  'pedro1: 350',\n",
       "  'pedro: 250',\n",
       "  'pepe: 10',\n",
       "  'pedro: 1']}"
      ]
     },
     "execution_count": 32,
     "metadata": {},
     "output_type": "execute_result"
    }
   ],
   "source": [
    "def convert_touple_to_string():\n",
    "    for key in scores_dicctionary:\n",
    "        scores_dicctionary[key] = [str(tup[0]) + \": \" + str(tup[1]) for tup in scores_dicctionary[key]]\n",
    "    return scores_dicctionary\n",
    "\n",
    "convert_touple_to_string()"
   ]
  },
  {
   "cell_type": "code",
   "execution_count": 33,
   "metadata": {},
   "outputs": [
    {
     "ename": "ValueError",
     "evalue": "All arrays must be of the same length",
     "output_type": "error",
     "traceback": [
      "\u001b[0;31m---------------------------------------------------------------------------\u001b[0m",
      "\u001b[0;31mValueError\u001b[0m                                Traceback (most recent call last)",
      "\u001b[1;32m/home/fernando/Documentos/Segundo/Python/grupo20/windows/test.ipynb Cell 6'\u001b[0m in \u001b[0;36m<cell line: 1>\u001b[0;34m()\u001b[0m\n\u001b[0;32m----> <a href='vscode-notebook-cell:/home/fernando/Documentos/Segundo/Python/grupo20/windows/test.ipynb#ch0000005?line=0'>1</a>\u001b[0m df \u001b[39m=\u001b[39m pd\u001b[39m.\u001b[39;49mDataFrame(scores_dicctionary)\n\u001b[1;32m      <a href='vscode-notebook-cell:/home/fernando/Documentos/Segundo/Python/grupo20/windows/test.ipynb#ch0000005?line=1'>2</a>\u001b[0m df\n",
      "File \u001b[0;32m~/.local/lib/python3.8/site-packages/pandas/core/frame.py:636\u001b[0m, in \u001b[0;36mDataFrame.__init__\u001b[0;34m(self, data, index, columns, dtype, copy)\u001b[0m\n\u001b[1;32m    <a href='file:///home/fernando/.local/lib/python3.8/site-packages/pandas/core/frame.py?line=629'>630</a>\u001b[0m     mgr \u001b[39m=\u001b[39m \u001b[39mself\u001b[39m\u001b[39m.\u001b[39m_init_mgr(\n\u001b[1;32m    <a href='file:///home/fernando/.local/lib/python3.8/site-packages/pandas/core/frame.py?line=630'>631</a>\u001b[0m         data, axes\u001b[39m=\u001b[39m{\u001b[39m\"\u001b[39m\u001b[39mindex\u001b[39m\u001b[39m\"\u001b[39m: index, \u001b[39m\"\u001b[39m\u001b[39mcolumns\u001b[39m\u001b[39m\"\u001b[39m: columns}, dtype\u001b[39m=\u001b[39mdtype, copy\u001b[39m=\u001b[39mcopy\n\u001b[1;32m    <a href='file:///home/fernando/.local/lib/python3.8/site-packages/pandas/core/frame.py?line=631'>632</a>\u001b[0m     )\n\u001b[1;32m    <a href='file:///home/fernando/.local/lib/python3.8/site-packages/pandas/core/frame.py?line=633'>634</a>\u001b[0m \u001b[39melif\u001b[39;00m \u001b[39misinstance\u001b[39m(data, \u001b[39mdict\u001b[39m):\n\u001b[1;32m    <a href='file:///home/fernando/.local/lib/python3.8/site-packages/pandas/core/frame.py?line=634'>635</a>\u001b[0m     \u001b[39m# GH#38939 de facto copy defaults to False only in non-dict cases\u001b[39;00m\n\u001b[0;32m--> <a href='file:///home/fernando/.local/lib/python3.8/site-packages/pandas/core/frame.py?line=635'>636</a>\u001b[0m     mgr \u001b[39m=\u001b[39m dict_to_mgr(data, index, columns, dtype\u001b[39m=\u001b[39;49mdtype, copy\u001b[39m=\u001b[39;49mcopy, typ\u001b[39m=\u001b[39;49mmanager)\n\u001b[1;32m    <a href='file:///home/fernando/.local/lib/python3.8/site-packages/pandas/core/frame.py?line=636'>637</a>\u001b[0m \u001b[39melif\u001b[39;00m \u001b[39misinstance\u001b[39m(data, ma\u001b[39m.\u001b[39mMaskedArray):\n\u001b[1;32m    <a href='file:///home/fernando/.local/lib/python3.8/site-packages/pandas/core/frame.py?line=637'>638</a>\u001b[0m     \u001b[39mimport\u001b[39;00m \u001b[39mnumpy\u001b[39;00m\u001b[39m.\u001b[39;00m\u001b[39mma\u001b[39;00m\u001b[39m.\u001b[39;00m\u001b[39mmrecords\u001b[39;00m \u001b[39mas\u001b[39;00m \u001b[39mmrecords\u001b[39;00m\n",
      "File \u001b[0;32m~/.local/lib/python3.8/site-packages/pandas/core/internals/construction.py:502\u001b[0m, in \u001b[0;36mdict_to_mgr\u001b[0;34m(data, index, columns, dtype, typ, copy)\u001b[0m\n\u001b[1;32m    <a href='file:///home/fernando/.local/lib/python3.8/site-packages/pandas/core/internals/construction.py?line=493'>494</a>\u001b[0m     arrays \u001b[39m=\u001b[39m [\n\u001b[1;32m    <a href='file:///home/fernando/.local/lib/python3.8/site-packages/pandas/core/internals/construction.py?line=494'>495</a>\u001b[0m         x\n\u001b[1;32m    <a href='file:///home/fernando/.local/lib/python3.8/site-packages/pandas/core/internals/construction.py?line=495'>496</a>\u001b[0m         \u001b[39mif\u001b[39;00m \u001b[39mnot\u001b[39;00m \u001b[39mhasattr\u001b[39m(x, \u001b[39m\"\u001b[39m\u001b[39mdtype\u001b[39m\u001b[39m\"\u001b[39m) \u001b[39mor\u001b[39;00m \u001b[39mnot\u001b[39;00m \u001b[39misinstance\u001b[39m(x\u001b[39m.\u001b[39mdtype, ExtensionDtype)\n\u001b[1;32m    <a href='file:///home/fernando/.local/lib/python3.8/site-packages/pandas/core/internals/construction.py?line=496'>497</a>\u001b[0m         \u001b[39melse\u001b[39;00m x\u001b[39m.\u001b[39mcopy()\n\u001b[1;32m    <a href='file:///home/fernando/.local/lib/python3.8/site-packages/pandas/core/internals/construction.py?line=497'>498</a>\u001b[0m         \u001b[39mfor\u001b[39;00m x \u001b[39min\u001b[39;00m arrays\n\u001b[1;32m    <a href='file:///home/fernando/.local/lib/python3.8/site-packages/pandas/core/internals/construction.py?line=498'>499</a>\u001b[0m     ]\n\u001b[1;32m    <a href='file:///home/fernando/.local/lib/python3.8/site-packages/pandas/core/internals/construction.py?line=499'>500</a>\u001b[0m     \u001b[39m# TODO: can we get rid of the dt64tz special case above?\u001b[39;00m\n\u001b[0;32m--> <a href='file:///home/fernando/.local/lib/python3.8/site-packages/pandas/core/internals/construction.py?line=501'>502</a>\u001b[0m \u001b[39mreturn\u001b[39;00m arrays_to_mgr(arrays, columns, index, dtype\u001b[39m=\u001b[39;49mdtype, typ\u001b[39m=\u001b[39;49mtyp, consolidate\u001b[39m=\u001b[39;49mcopy)\n",
      "File \u001b[0;32m~/.local/lib/python3.8/site-packages/pandas/core/internals/construction.py:120\u001b[0m, in \u001b[0;36marrays_to_mgr\u001b[0;34m(arrays, columns, index, dtype, verify_integrity, typ, consolidate)\u001b[0m\n\u001b[1;32m    <a href='file:///home/fernando/.local/lib/python3.8/site-packages/pandas/core/internals/construction.py?line=116'>117</a>\u001b[0m \u001b[39mif\u001b[39;00m verify_integrity:\n\u001b[1;32m    <a href='file:///home/fernando/.local/lib/python3.8/site-packages/pandas/core/internals/construction.py?line=117'>118</a>\u001b[0m     \u001b[39m# figure out the index, if necessary\u001b[39;00m\n\u001b[1;32m    <a href='file:///home/fernando/.local/lib/python3.8/site-packages/pandas/core/internals/construction.py?line=118'>119</a>\u001b[0m     \u001b[39mif\u001b[39;00m index \u001b[39mis\u001b[39;00m \u001b[39mNone\u001b[39;00m:\n\u001b[0;32m--> <a href='file:///home/fernando/.local/lib/python3.8/site-packages/pandas/core/internals/construction.py?line=119'>120</a>\u001b[0m         index \u001b[39m=\u001b[39m _extract_index(arrays)\n\u001b[1;32m    <a href='file:///home/fernando/.local/lib/python3.8/site-packages/pandas/core/internals/construction.py?line=120'>121</a>\u001b[0m     \u001b[39melse\u001b[39;00m:\n\u001b[1;32m    <a href='file:///home/fernando/.local/lib/python3.8/site-packages/pandas/core/internals/construction.py?line=121'>122</a>\u001b[0m         index \u001b[39m=\u001b[39m ensure_index(index)\n",
      "File \u001b[0;32m~/.local/lib/python3.8/site-packages/pandas/core/internals/construction.py:674\u001b[0m, in \u001b[0;36m_extract_index\u001b[0;34m(data)\u001b[0m\n\u001b[1;32m    <a href='file:///home/fernando/.local/lib/python3.8/site-packages/pandas/core/internals/construction.py?line=671'>672</a>\u001b[0m lengths \u001b[39m=\u001b[39m \u001b[39mlist\u001b[39m(\u001b[39mset\u001b[39m(raw_lengths))\n\u001b[1;32m    <a href='file:///home/fernando/.local/lib/python3.8/site-packages/pandas/core/internals/construction.py?line=672'>673</a>\u001b[0m \u001b[39mif\u001b[39;00m \u001b[39mlen\u001b[39m(lengths) \u001b[39m>\u001b[39m \u001b[39m1\u001b[39m:\n\u001b[0;32m--> <a href='file:///home/fernando/.local/lib/python3.8/site-packages/pandas/core/internals/construction.py?line=673'>674</a>\u001b[0m     \u001b[39mraise\u001b[39;00m \u001b[39mValueError\u001b[39;00m(\u001b[39m\"\u001b[39m\u001b[39mAll arrays must be of the same length\u001b[39m\u001b[39m\"\u001b[39m)\n\u001b[1;32m    <a href='file:///home/fernando/.local/lib/python3.8/site-packages/pandas/core/internals/construction.py?line=675'>676</a>\u001b[0m \u001b[39mif\u001b[39;00m have_dicts:\n\u001b[1;32m    <a href='file:///home/fernando/.local/lib/python3.8/site-packages/pandas/core/internals/construction.py?line=676'>677</a>\u001b[0m     \u001b[39mraise\u001b[39;00m \u001b[39mValueError\u001b[39;00m(\n\u001b[1;32m    <a href='file:///home/fernando/.local/lib/python3.8/site-packages/pandas/core/internals/construction.py?line=677'>678</a>\u001b[0m         \u001b[39m\"\u001b[39m\u001b[39mMixing dicts with non-Series may lead to ambiguous ordering.\u001b[39m\u001b[39m\"\u001b[39m\n\u001b[1;32m    <a href='file:///home/fernando/.local/lib/python3.8/site-packages/pandas/core/internals/construction.py?line=678'>679</a>\u001b[0m     )\n",
      "\u001b[0;31mValueError\u001b[0m: All arrays must be of the same length"
     ]
    }
   ],
   "source": [
    "df = pd.DataFrame(scores_dicctionary)\n",
    "df"
   ]
  },
  {
   "cell_type": "code",
   "execution_count": null,
   "metadata": {},
   "outputs": [
    {
     "data": {
      "text/plain": [
       "facil      object\n",
       "normal     object\n",
       "dificil    object\n",
       "experto    object\n",
       "dtype: object"
      ]
     },
     "execution_count": 19,
     "metadata": {},
     "output_type": "execute_result"
    }
   ],
   "source": [
    "df.dtypes"
   ]
  },
  {
   "cell_type": "code",
   "execution_count": null,
   "metadata": {},
   "outputs": [
    {
     "data": {
      "text/plain": [
       "array(dict_values([['juan: 600', 'diego: 400'], ['ale: 340', 'leo: 200'], ['lucia: 450', 'ana: 300'], ['pedro: 250', 'pepe: 10']]),\n",
       "      dtype=object)"
      ]
     },
     "execution_count": 25,
     "metadata": {},
     "output_type": "execute_result"
    }
   ],
   "source": [
    "\n",
    "con_array = np.array(scores_dicctionary.values())\n",
    "con_array"
   ]
  },
  {
   "cell_type": "code",
   "execution_count": 34,
   "metadata": {},
   "outputs": [
    {
     "data": {
      "text/plain": [
       "[['dkjsn: 800', 'juan: 600', 'diego: 400', 'dss: 240', 'dhhhh: 10'],\n",
       " ['ale: 340', 'leo: 200'],\n",
       " ['lucia: 450', 'ana: 300'],\n",
       " ['pedro8: 950',\n",
       "  'pedro7: 850',\n",
       "  'pedro6: 750',\n",
       "  'pedro5: 650',\n",
       "  'pedro4: 550',\n",
       "  'pedro2: 50',\n",
       "  'pedro3: 450',\n",
       "  'pedro1: 350',\n",
       "  'pedro: 250',\n",
       "  'pepe: 10',\n",
       "  'pedro: 1']]"
      ]
     },
     "execution_count": 34,
     "metadata": {},
     "output_type": "execute_result"
    }
   ],
   "source": [
    "nl1 = list(scores_dicctionary.values())\n",
    "nl1"
   ]
  },
  {
   "cell_type": "code",
   "execution_count": null,
   "metadata": {},
   "outputs": [],
   "source": []
  }
 ],
 "metadata": {
  "interpreter": {
   "hash": "916dbcbb3f70747c44a77c7bcd40155683ae19c65e1c03b4aa3499c5328201f1"
  },
  "kernelspec": {
   "display_name": "Python 3.8.10 64-bit",
   "language": "python",
   "name": "python3"
  },
  "language_info": {
   "codemirror_mode": {
    "name": "ipython",
    "version": 3
   },
   "file_extension": ".py",
   "mimetype": "text/x-python",
   "name": "python",
   "nbconvert_exporter": "python",
   "pygments_lexer": "ipython3",
   "version": "3.8.10"
  },
  "orig_nbformat": 4
 },
 "nbformat": 4,
 "nbformat_minor": 2
}
