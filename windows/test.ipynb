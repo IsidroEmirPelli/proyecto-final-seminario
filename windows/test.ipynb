{
 "cells": [
  {
   "cell_type": "code",
   "execution_count": 49,
   "metadata": {},
   "outputs": [],
   "source": [
    "import pandas as pd\n",
    "from csv import reader\n",
    "import PySimpleGUI as sg\n",
    "import os\n",
    "import numpy as np"
   ]
  },
  {
   "cell_type": "code",
   "execution_count": 50,
   "metadata": {},
   "outputs": [],
   "source": [
    "path_csv = os.path.abspath(os.path.join(os.path.dirname(\"__file__\"), '..', 'data_sets'))\n",
    "path_scores = os.path.join(path_csv, 'scores.csv')\n",
    "\n",
    "scores_dicctionary = {'facil': [], 'normal': [], 'dificil': []}\n",
    "\n",
    "\n",
    "headings_array = [\"facil\", \"normal\", \"dificil\"]"
   ]
  },
  {
   "cell_type": "code",
   "execution_count": 51,
   "metadata": {},
   "outputs": [],
   "source": [
    "def load_score_dicctionary():\n",
    "    with open(path_scores, 'r') as csv_file:\n",
    "        csv_reader = reader(csv_file,delimiter=',')\n",
    "        for row in csv_reader:\n",
    "            scores_dicctionary[row[1]].append((row[2],row[0]))\n",
    "            scores_dicctionary[row[1]].sort(key=lambda tup: tup[0], reverse=True)\n",
    "            \n",
    "    return scores_dicctionary  "
   ]
  },
  {
   "cell_type": "code",
   "execution_count": 52,
   "metadata": {},
   "outputs": [
    {
     "ename": "IndexError",
     "evalue": "list index out of range",
     "output_type": "error",
     "traceback": [
      "\u001b[0;31m---------------------------------------------------------------------------\u001b[0m",
      "\u001b[0;31mIndexError\u001b[0m                                Traceback (most recent call last)",
      "\u001b[1;32m/home/fernando/Documentos/Segundo/Python/grupo20/windows/test.ipynb Cell 4'\u001b[0m in \u001b[0;36m<cell line: 1>\u001b[0;34m()\u001b[0m\n\u001b[0;32m----> <a href='vscode-notebook-cell:/home/fernando/Documentos/Segundo/Python/grupo20/windows/test.ipynb#ch0000003?line=0'>1</a>\u001b[0m load_score_dicctionary()\n",
      "\u001b[1;32m/home/fernando/Documentos/Segundo/Python/grupo20/windows/test.ipynb Cell 3'\u001b[0m in \u001b[0;36mload_score_dicctionary\u001b[0;34m()\u001b[0m\n\u001b[1;32m      <a href='vscode-notebook-cell:/home/fernando/Documentos/Segundo/Python/grupo20/windows/test.ipynb#ch0000002?line=2'>3</a>\u001b[0m     csv_reader \u001b[39m=\u001b[39m reader(csv_file,delimiter\u001b[39m=\u001b[39m\u001b[39m'\u001b[39m\u001b[39m,\u001b[39m\u001b[39m'\u001b[39m)\n\u001b[1;32m      <a href='vscode-notebook-cell:/home/fernando/Documentos/Segundo/Python/grupo20/windows/test.ipynb#ch0000002?line=3'>4</a>\u001b[0m     \u001b[39mfor\u001b[39;00m row \u001b[39min\u001b[39;00m csv_reader:\n\u001b[0;32m----> <a href='vscode-notebook-cell:/home/fernando/Documentos/Segundo/Python/grupo20/windows/test.ipynb#ch0000002?line=4'>5</a>\u001b[0m         scores_dicctionary[row[\u001b[39m1\u001b[39;49m]]\u001b[39m.\u001b[39mappend((row[\u001b[39m2\u001b[39m],row[\u001b[39m0\u001b[39m]))\n\u001b[1;32m      <a href='vscode-notebook-cell:/home/fernando/Documentos/Segundo/Python/grupo20/windows/test.ipynb#ch0000002?line=5'>6</a>\u001b[0m         scores_dicctionary[row[\u001b[39m1\u001b[39m]]\u001b[39m.\u001b[39msort(key\u001b[39m=\u001b[39m\u001b[39mlambda\u001b[39;00m tup: tup[\u001b[39m0\u001b[39m], reverse\u001b[39m=\u001b[39m\u001b[39mTrue\u001b[39;00m)\n\u001b[1;32m      <a href='vscode-notebook-cell:/home/fernando/Documentos/Segundo/Python/grupo20/windows/test.ipynb#ch0000002?line=7'>8</a>\u001b[0m \u001b[39mreturn\u001b[39;00m scores_dicctionary\n",
      "\u001b[0;31mIndexError\u001b[0m: list index out of range"
     ]
    }
   ],
   "source": [
    "load_score_dicctionary()"
   ]
  },
  {
   "cell_type": "code",
   "execution_count": null,
   "metadata": {},
   "outputs": [
    {
     "data": {
      "text/plain": [
       "{'facil': ['j: u',\n",
       "  'd: s',\n",
       "  'd: k',\n",
       "  '600: juan',\n",
       "  'd: i',\n",
       "  'd: h',\n",
       "  '240: dss',\n",
       "  '800: dkjsn',\n",
       "  '400: diego',\n",
       "  '10: dhhhh'],\n",
       " 'normal': ['100: leo2', '200: leo', 'a: l', 'l: e', 'l: e', '340: ale'],\n",
       " 'dificil': ['l: u', 'l: u', 'a: n', '450: lucia', '43: lucas', '300: ana'],\n",
       " 'experto': ['10: pepe',\n",
       "  '950: pedro8',\n",
       "  '85: pedro72',\n",
       "  '850: pedro7',\n",
       "  '75: pedro62',\n",
       "  '750: pedro6',\n",
       "  '65: pedro52',\n",
       "  '650: pedro5',\n",
       "  '55: pedro42',\n",
       "  '550: pedro4',\n",
       "  '45: pedro32',\n",
       "  '450: pedro3',\n",
       "  '5: pedro22',\n",
       "  '50: pedro2',\n",
       "  '350: pedro1',\n",
       "  '95: pedro0',\n",
       "  '250: pedro',\n",
       "  '1: pedro',\n",
       "  'p: e',\n",
       "  'p: e',\n",
       "  'p: e',\n",
       "  'p: e',\n",
       "  'p: e',\n",
       "  'p: e',\n",
       "  'p: e',\n",
       "  'p: e',\n",
       "  'p: e',\n",
       "  'p: e',\n",
       "  'p: e',\n",
       "  'p: e',\n",
       "  'p: e',\n",
       "  'p: e',\n",
       "  'p: e',\n",
       "  'p: e',\n",
       "  'p: e',\n",
       "  'p: e']}"
      ]
     },
     "execution_count": 37,
     "metadata": {},
     "output_type": "execute_result"
    }
   ],
   "source": [
    "def convert_touple_to_string():\n",
    "    for key in scores_dicctionary:\n",
    "        scores_dicctionary[key] = [str(tup[0]) + \": \" + str(tup[1]) for tup in scores_dicctionary[key]]\n",
    "    return scores_dicctionary\n",
    "\n",
    "convert_touple_to_string()"
   ]
  },
  {
   "cell_type": "code",
   "execution_count": null,
   "metadata": {},
   "outputs": [
    {
     "data": {
      "text/html": [
       "<div>\n",
       "<style scoped>\n",
       "    .dataframe tbody tr th:only-of-type {\n",
       "        vertical-align: middle;\n",
       "    }\n",
       "\n",
       "    .dataframe tbody tr th {\n",
       "        vertical-align: top;\n",
       "    }\n",
       "\n",
       "    .dataframe thead th {\n",
       "        text-align: right;\n",
       "    }\n",
       "</style>\n",
       "<table border=\"1\" class=\"dataframe\">\n",
       "  <thead>\n",
       "    <tr style=\"text-align: right;\">\n",
       "      <th></th>\n",
       "      <th>0</th>\n",
       "      <th>1</th>\n",
       "      <th>2</th>\n",
       "      <th>3</th>\n",
       "      <th>4</th>\n",
       "      <th>5</th>\n",
       "      <th>6</th>\n",
       "      <th>7</th>\n",
       "      <th>8</th>\n",
       "      <th>9</th>\n",
       "      <th>10</th>\n",
       "      <th>11</th>\n",
       "      <th>12</th>\n",
       "      <th>13</th>\n",
       "      <th>14</th>\n",
       "      <th>15</th>\n",
       "      <th>16</th>\n",
       "      <th>17</th>\n",
       "    </tr>\n",
       "  </thead>\n",
       "  <tbody>\n",
       "    <tr>\n",
       "      <th>0</th>\n",
       "      <td>dkjsn: 800</td>\n",
       "      <td>juan: 600</td>\n",
       "      <td>diego: 400</td>\n",
       "      <td>dss: 240</td>\n",
       "      <td>dhhhh: 10</td>\n",
       "      <td>None</td>\n",
       "      <td>None</td>\n",
       "      <td>None</td>\n",
       "      <td>None</td>\n",
       "      <td>None</td>\n",
       "      <td>None</td>\n",
       "      <td>None</td>\n",
       "      <td>None</td>\n",
       "      <td>None</td>\n",
       "      <td>None</td>\n",
       "      <td>None</td>\n",
       "      <td>None</td>\n",
       "      <td>None</td>\n",
       "    </tr>\n",
       "    <tr>\n",
       "      <th>1</th>\n",
       "      <td>ale: 340</td>\n",
       "      <td>leo: 200</td>\n",
       "      <td>leo2: 100</td>\n",
       "      <td>None</td>\n",
       "      <td>None</td>\n",
       "      <td>None</td>\n",
       "      <td>None</td>\n",
       "      <td>None</td>\n",
       "      <td>None</td>\n",
       "      <td>None</td>\n",
       "      <td>None</td>\n",
       "      <td>None</td>\n",
       "      <td>None</td>\n",
       "      <td>None</td>\n",
       "      <td>None</td>\n",
       "      <td>None</td>\n",
       "      <td>None</td>\n",
       "      <td>None</td>\n",
       "    </tr>\n",
       "    <tr>\n",
       "      <th>2</th>\n",
       "      <td>lucia: 450</td>\n",
       "      <td>lucas: 43</td>\n",
       "      <td>ana: 300</td>\n",
       "      <td>None</td>\n",
       "      <td>None</td>\n",
       "      <td>None</td>\n",
       "      <td>None</td>\n",
       "      <td>None</td>\n",
       "      <td>None</td>\n",
       "      <td>None</td>\n",
       "      <td>None</td>\n",
       "      <td>None</td>\n",
       "      <td>None</td>\n",
       "      <td>None</td>\n",
       "      <td>None</td>\n",
       "      <td>None</td>\n",
       "      <td>None</td>\n",
       "      <td>None</td>\n",
       "    </tr>\n",
       "    <tr>\n",
       "      <th>3</th>\n",
       "      <td>pedro8: 950</td>\n",
       "      <td>pedro0: 95</td>\n",
       "      <td>pedro7: 850</td>\n",
       "      <td>pedro72: 85</td>\n",
       "      <td>pedro6: 750</td>\n",
       "      <td>pedro62: 75</td>\n",
       "      <td>pedro5: 650</td>\n",
       "      <td>pedro52: 65</td>\n",
       "      <td>pedro4: 550</td>\n",
       "      <td>pedro42: 55</td>\n",
       "      <td>pedro2: 50</td>\n",
       "      <td>pedro22: 5</td>\n",
       "      <td>pedro3: 450</td>\n",
       "      <td>pedro32: 45</td>\n",
       "      <td>pedro1: 350</td>\n",
       "      <td>pedro: 250</td>\n",
       "      <td>pepe: 10</td>\n",
       "      <td>pedro: 1</td>\n",
       "    </tr>\n",
       "  </tbody>\n",
       "</table>\n",
       "</div>"
      ],
      "text/plain": [
       "            0           1            2            3            4   \\\n",
       "0   dkjsn: 800   juan: 600   diego: 400     dss: 240    dhhhh: 10   \n",
       "1     ale: 340    leo: 200    leo2: 100         None         None   \n",
       "2   lucia: 450   lucas: 43     ana: 300         None         None   \n",
       "3  pedro8: 950  pedro0: 95  pedro7: 850  pedro72: 85  pedro6: 750   \n",
       "\n",
       "            5            6            7            8            9   \\\n",
       "0         None         None         None         None         None   \n",
       "1         None         None         None         None         None   \n",
       "2         None         None         None         None         None   \n",
       "3  pedro62: 75  pedro5: 650  pedro52: 65  pedro4: 550  pedro42: 55   \n",
       "\n",
       "           10          11           12           13           14          15  \\\n",
       "0        None        None         None         None         None        None   \n",
       "1        None        None         None         None         None        None   \n",
       "2        None        None         None         None         None        None   \n",
       "3  pedro2: 50  pedro22: 5  pedro3: 450  pedro32: 45  pedro1: 350  pedro: 250   \n",
       "\n",
       "         16        17  \n",
       "0      None      None  \n",
       "1      None      None  \n",
       "2      None      None  \n",
       "3  pepe: 10  pedro: 1  "
      ]
     },
     "execution_count": 26,
     "metadata": {},
     "output_type": "execute_result"
    }
   ],
   "source": [
    "# convert the dictionary to a dataframe\n",
    "df = pd.DataFrame(scores_dicctionary.values())\n",
    "df"
   ]
  },
  {
   "cell_type": "code",
   "execution_count": null,
   "metadata": {},
   "outputs": [],
   "source": []
  },
  {
   "cell_type": "code",
   "execution_count": null,
   "metadata": {},
   "outputs": [
    {
     "data": {
      "text/plain": [
       "array(dict_values([['dkjsn: 800', 'juan: 600', 'diego: 400', 'dss: 240', 'dhhhh: 10'], ['ale: 340', 'leo: 200', 'leo2: 100'], ['lucia: 450', 'lucas: 43', 'ana: 300'], ['pedro8: 950', 'pedro0: 95', 'pedro7: 850', 'pedro72: 85', 'pedro6: 750', 'pedro62: 75', 'pedro5: 650', 'pedro52: 65', 'pedro4: 550', 'pedro42: 55', 'pedro2: 50', 'pedro22: 5', 'pedro3: 450', 'pedro32: 45', 'pedro1: 350', 'pedro: 250', 'pepe: 10', 'pedro: 1']]),\n",
       "      dtype=object)"
      ]
     },
     "execution_count": 27,
     "metadata": {},
     "output_type": "execute_result"
    }
   ],
   "source": [
    "\n",
    "con_array = np.array(scores_dicctionary.values())\n",
    "con_array"
   ]
  },
  {
   "cell_type": "code",
   "execution_count": null,
   "metadata": {},
   "outputs": [],
   "source": []
  },
  {
   "cell_type": "code",
   "execution_count": null,
   "metadata": {},
   "outputs": [
    {
     "data": {
      "text/plain": [
       "[['dkjsn: 800', 'juan: 600', 'diego: 400', 'dss: 240', 'dhhhh: 10'],\n",
       " ['ale: 340', 'leo: 200', 'leo2: 100'],\n",
       " ['lucia: 450', 'lucas: 43', 'ana: 300'],\n",
       " ['pedro8: 950',\n",
       "  'pedro0: 95',\n",
       "  'pedro7: 850',\n",
       "  'pedro72: 85',\n",
       "  'pedro6: 750',\n",
       "  'pedro62: 75',\n",
       "  'pedro5: 650',\n",
       "  'pedro52: 65',\n",
       "  'pedro4: 550',\n",
       "  'pedro42: 55',\n",
       "  'pedro2: 50',\n",
       "  'pedro22: 5',\n",
       "  'pedro3: 450',\n",
       "  'pedro32: 45',\n",
       "  'pedro1: 350',\n",
       "  'pedro: 250',\n",
       "  'pepe: 10',\n",
       "  'pedro: 1']]"
      ]
     },
     "execution_count": 28,
     "metadata": {},
     "output_type": "execute_result"
    }
   ],
   "source": [
    "nl1 = list(scores_dicctionary.values())\n",
    "nl1"
   ]
  },
  {
   "cell_type": "code",
   "execution_count": null,
   "metadata": {},
   "outputs": [
    {
     "name": "stderr",
     "output_type": "stream",
     "text": [
      "/tmp/ipykernel_17937/520191418.py:1: VisibleDeprecationWarning: Creating an ndarray from ragged nested sequences (which is a list-or-tuple of lists-or-tuples-or ndarrays with different lengths or shapes) is deprecated. If you meant to do this, you must specify 'dtype=object' when creating the ndarray.\n",
      "  x = np.array(nl1)\n"
     ]
    },
    {
     "data": {
      "text/plain": [
       "array([list(['dkjsn: 800', 'juan: 600', 'diego: 400', 'dss: 240', 'dhhhh: 10']),\n",
       "       list(['ale: 340', 'leo: 200', 'leo2: 100']),\n",
       "       list(['lucia: 450', 'lucas: 43', 'ana: 300']),\n",
       "       list(['pedro8: 950', 'pedro0: 95', 'pedro7: 850', 'pedro72: 85', 'pedro6: 750', 'pedro62: 75', 'pedro5: 650', 'pedro52: 65', 'pedro4: 550', 'pedro42: 55', 'pedro2: 50', 'pedro22: 5', 'pedro3: 450', 'pedro32: 45', 'pedro1: 350', 'pedro: 250', 'pepe: 10', 'pedro: 1'])],\n",
       "      dtype=object)"
      ]
     },
     "execution_count": 29,
     "metadata": {},
     "output_type": "execute_result"
    }
   ],
   "source": [
    "x = np.array(nl1)\n",
    "y = x.T\n",
    "y"
   ]
  },
  {
   "cell_type": "code",
   "execution_count": null,
   "metadata": {},
   "outputs": [
    {
     "data": {
      "text/plain": [
       "[['dkjsn: 800', 'juan: 600', 'diego: 400', 'dss: 240', 'dhhhh: 10'],\n",
       " ['ale: 340', 'leo: 200', 'leo2: 100'],\n",
       " ['lucia: 450', 'lucas: 43', 'ana: 300'],\n",
       " ['pedro8: 950',\n",
       "  'pedro0: 95',\n",
       "  'pedro7: 850',\n",
       "  'pedro72: 85',\n",
       "  'pedro6: 750',\n",
       "  'pedro62: 75',\n",
       "  'pedro5: 650',\n",
       "  'pedro52: 65',\n",
       "  'pedro4: 550',\n",
       "  'pedro42: 55',\n",
       "  'pedro2: 50',\n",
       "  'pedro22: 5',\n",
       "  'pedro3: 450',\n",
       "  'pedro32: 45',\n",
       "  'pedro1: 350',\n",
       "  'pedro: 250',\n",
       "  'pepe: 10',\n",
       "  'pedro: 1']]"
      ]
     },
     "execution_count": 30,
     "metadata": {},
     "output_type": "execute_result"
    }
   ],
   "source": [
    "result1 = list(scores_dicctionary.values())\n",
    "    # invert the list of lists\n",
    "result2 = list(map(list, zip(*result1)))\n",
    "\n",
    "result1\n",
    "\n"
   ]
  },
  {
   "cell_type": "code",
   "execution_count": null,
   "metadata": {},
   "outputs": [
    {
     "data": {
      "text/plain": [
       "[['dkjsn: 800', 'ale: 340', 'lucia: 450', 'pedro8: 950'],\n",
       " ['juan: 600', 'leo: 200', 'lucas: 43', 'pedro0: 95'],\n",
       " ['diego: 400', 'leo2: 100', 'ana: 300', 'pedro7: 850']]"
      ]
     },
     "execution_count": 31,
     "metadata": {},
     "output_type": "execute_result"
    }
   ],
   "source": [
    "result2"
   ]
  },
  {
   "cell_type": "code",
   "execution_count": null,
   "metadata": {},
   "outputs": [
    {
     "name": "stderr",
     "output_type": "stream",
     "text": [
      "/tmp/ipykernel_17937/3226268104.py:1: VisibleDeprecationWarning: Creating an ndarray from ragged nested sequences (which is a list-or-tuple of lists-or-tuples-or ndarrays with different lengths or shapes) is deprecated. If you meant to do this, you must specify 'dtype=object' when creating the ndarray.\n",
      "  result2 = np.array(result1)\n"
     ]
    },
    {
     "data": {
      "text/plain": [
       "array([list(['dkjsn: 800', 'juan: 600', 'diego: 400', 'dss: 240', 'dhhhh: 10']),\n",
       "       list(['ale: 340', 'leo: 200', 'leo2: 100']),\n",
       "       list(['lucia: 450', 'lucas: 43', 'ana: 300']),\n",
       "       list(['pedro8: 950', 'pedro0: 95', 'pedro7: 850', 'pedro72: 85', 'pedro6: 750', 'pedro62: 75', 'pedro5: 650', 'pedro52: 65', 'pedro4: 550', 'pedro42: 55', 'pedro2: 50', 'pedro22: 5', 'pedro3: 450', 'pedro32: 45', 'pedro1: 350', 'pedro: 250', 'pepe: 10', 'pedro: 1'])],\n",
       "      dtype=object)"
      ]
     },
     "execution_count": 32,
     "metadata": {},
     "output_type": "execute_result"
    }
   ],
   "source": [
    "result2 = np.array(result1)\n",
    "    # inverted the matrix\n",
    "\n",
    "\n",
    "result2"
   ]
  },
  {
   "cell_type": "code",
   "execution_count": null,
   "metadata": {},
   "outputs": [
    {
     "data": {
      "text/plain": [
       "array(dict_values([['dkjsn: 800', 'juan: 600', 'diego: 400', 'dss: 240', 'dhhhh: 10'], ['ale: 340', 'leo: 200', 'leo2: 100'], ['lucia: 450', 'lucas: 43', 'ana: 300'], ['pedro8: 950', 'pedro0: 95', 'pedro7: 850', 'pedro72: 85', 'pedro6: 750', 'pedro62: 75', 'pedro5: 650', 'pedro52: 65', 'pedro4: 550', 'pedro42: 55', 'pedro2: 50', 'pedro22: 5', 'pedro3: 450', 'pedro32: 45', 'pedro1: 350', 'pedro: 250', 'pepe: 10', 'pedro: 1']]),\n",
       "      dtype=object)"
      ]
     },
     "execution_count": 33,
     "metadata": {},
     "output_type": "execute_result"
    }
   ],
   "source": [
    "rest = np.array(scores_dicctionary.values())\n",
    "rest"
   ]
  },
  {
   "cell_type": "code",
   "execution_count": null,
   "metadata": {},
   "outputs": [
    {
     "data": {
      "text/plain": [
       "array(dict_values([['dkjsn: 800', 'juan: 600', 'diego: 400', 'dss: 240', 'dhhhh: 10'], ['ale: 340', 'leo: 200', 'leo2: 100'], ['lucia: 450', 'lucas: 43', 'ana: 300'], ['pedro8: 950', 'pedro0: 95', 'pedro7: 850', 'pedro72: 85', 'pedro6: 750', 'pedro62: 75', 'pedro5: 650', 'pedro52: 65', 'pedro4: 550', 'pedro42: 55', 'pedro2: 50', 'pedro22: 5', 'pedro3: 450', 'pedro32: 45', 'pedro1: 350', 'pedro: 250', 'pepe: 10', 'pedro: 1']]),\n",
       "      dtype=object)"
      ]
     },
     "execution_count": 34,
     "metadata": {},
     "output_type": "execute_result"
    }
   ],
   "source": [
    "#transpose the matrix\n",
    "rest.T"
   ]
  },
  {
   "cell_type": "code",
   "execution_count": null,
   "metadata": {},
   "outputs": [],
   "source": []
  }
 ],
 "metadata": {
  "interpreter": {
   "hash": "916dbcbb3f70747c44a77c7bcd40155683ae19c65e1c03b4aa3499c5328201f1"
  },
  "kernelspec": {
   "display_name": "Python 3 (ipykernel)",
   "language": "python",
   "name": "python3"
  },
  "language_info": {
   "codemirror_mode": {
    "name": "ipython",
    "version": 3
   },
   "file_extension": ".py",
   "mimetype": "text/x-python",
   "name": "python",
   "nbconvert_exporter": "python",
   "pygments_lexer": "ipython3",
   "version": "3.10.4"
  }
 },
 "nbformat": 4,
 "nbformat_minor": 2
}
