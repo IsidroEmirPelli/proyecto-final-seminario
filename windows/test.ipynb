{
 "cells": [
  {
   "cell_type": "code",
   "execution_count": 1,
   "metadata": {},
   "outputs": [],
   "source": [
    "import csv\n",
    "from csv import reader\n",
    "import pandas as pd\n",
    "import PySimpleGUI as sg\n",
    "import os\n",
    "import numpy as np\n"
   ]
  },
  {
   "cell_type": "code",
   "execution_count": 2,
   "metadata": {},
   "outputs": [],
   "source": [
    "path_csv = os.path.abspath(os.path.join(os.path.dirname('__file__'), '..', 'users'))\n",
    "path_scores = os.path.join(path_csv, 'scores.csv')\n",
    "\n",
    "scores_dicctionary = {'facil': [], 'normal': [], 'dificil': []}\n",
    "headings_array = [\"FACIL\", \"NORMAL\", \"DIFICIL\"]\n",
    "headings_facil =[\"Facil\"]\n",
    "headings_normal = [\"Normal\",\"Dificil\"]"
   ]
  },
  {
   "cell_type": "code",
   "execution_count": 12,
   "metadata": {},
   "outputs": [],
   "source": [
    "def load_score_dicctionary():\n",
    "        \"\"\" funcion que lee el archivo csv y devuelve un diccionario con key: dificultad y value: lista de tuplas \"\"\"\n",
    "        with open(path_scores, 'r') as csv_file:\n",
    "            csv_reader = reader(csv_file, delimiter=',')\n",
    "            next(csv_reader)\n",
    "            for row in csv_reader:\n",
    "                scores_dicctionary[row[1]].append((row[0], row[2]))\n",
    "        return scores_dicctionary"
   ]
  },
  {
   "cell_type": "code",
   "execution_count": 13,
   "metadata": {},
   "outputs": [
    {
     "data": {
      "text/plain": [
       "{'facil': [('dkjsn', '800'),\n",
       "  ('dkjsn', '1'),\n",
       "  ('dhhhh', '10'),\n",
       "  ('dkdsn', '80'),\n",
       "  ('dhffh', '880'),\n",
       "  ('dkjsn', '800'),\n",
       "  ('dhhhh', '10'),\n",
       "  ('dkdsn', '80'),\n",
       "  ('dhffh', '880'),\n",
       "  ('dhffh', '1'),\n",
       "  ('dkjsn', '800'),\n",
       "  ('dhhhh', '10'),\n",
       "  ('dkdsn', '80'),\n",
       "  ('dhffh', '880'),\n",
       "  ('dkjsn', '800'),\n",
       "  ('dhhhh', '10'),\n",
       "  ('dkdsn', '80'),\n",
       "  ('dhffh', '880'),\n",
       "  ('dkjsn', '800'),\n",
       "  ('dhhhh', '10'),\n",
       "  ('dkdsn', '80'),\n",
       "  ('dhffh', '880'),\n",
       "  ('dkjsn', '800'),\n",
       "  ('dhhhh', '10'),\n",
       "  ('dkdsn', '80'),\n",
       "  ('dhffh', '880'),\n",
       "  ('dkjsn', '800'),\n",
       "  ('dhhhh', '10'),\n",
       "  ('dkdsn', '80'),\n",
       "  ('dhffh', '880')],\n",
       " 'normal': [('aaaa', '100'),\n",
       "  ('aaaa', '100'),\n",
       "  ('aaaa', '100'),\n",
       "  ('aaaa', '100'),\n",
       "  ('aaaa', '100'),\n",
       "  ('aaaa', '100'),\n",
       "  ('aaaa', '100'),\n",
       "  ('aaaa', '100'),\n",
       "  ('aaaa', '100'),\n",
       "  ('aaaa', '100'),\n",
       "  ('aaaa', '100')],\n",
       " 'dificil': []}"
      ]
     },
     "execution_count": 13,
     "metadata": {},
     "output_type": "execute_result"
    }
   ],
   "source": [
    "load_score_dicctionary()"
   ]
  },
  {
   "cell_type": "code",
   "execution_count": null,
   "metadata": {},
   "outputs": [
    {
     "data": {
      "text/plain": [
       "{'facil': [('dhffh', '880'),\n",
       "  ('dhffh', '880'),\n",
       "  ('dhffh', '880'),\n",
       "  ('dhffh', '880'),\n",
       "  ('dhffh', '880'),\n",
       "  ('dhffh', '880'),\n",
       "  ('dhffh', '880'),\n",
       "  ('dkjsn', '800'),\n",
       "  ('dkjsn', '800'),\n",
       "  ('dkjsn', '800'),\n",
       "  ('dkjsn', '800'),\n",
       "  ('dkjsn', '800'),\n",
       "  ('dkjsn', '800'),\n",
       "  ('dkjsn', '800'),\n",
       "  ('dkdsn', '80'),\n",
       "  ('dkdsn', '80'),\n",
       "  ('dkdsn', '80'),\n",
       "  ('dkdsn', '80'),\n",
       "  ('dkdsn', '80'),\n",
       "  ('dkdsn', '80'),\n",
       "  ('dkdsn', '80'),\n",
       "  ('dhhhh', '10'),\n",
       "  ('dhhhh', '10'),\n",
       "  ('dhhhh', '10'),\n",
       "  ('dhhhh', '10'),\n",
       "  ('dhhhh', '10'),\n",
       "  ('dhhhh', '10'),\n",
       "  ('dhhhh', '10'),\n",
       "  ('dkjsn', '1'),\n",
       "  ('dhffh', '1')],\n",
       " 'normal': [('aaaa', '100'),\n",
       "  ('aaaa', '100'),\n",
       "  ('aaaa', '100'),\n",
       "  ('aaaa', '100'),\n",
       "  ('aaaa', '100'),\n",
       "  ('aaaa', '100'),\n",
       "  ('aaaa', '100'),\n",
       "  ('aaaa', '100'),\n",
       "  ('aaaa', '100'),\n",
       "  ('aaaa', '100'),\n",
       "  ('aaaa', '100')],\n",
       " 'dificil': []}"
      ]
     },
     "execution_count": 154,
     "metadata": {},
     "output_type": "execute_result"
    }
   ],
   "source": [
    "def sort_scores(dicctionary):\n",
    "        \"\"\" funcion que ordena los scores de mayor a menor en el dicionario\"\"\"\n",
    "        for key in dicctionary:\n",
    "            dicctionary[key].sort(key=lambda tup: int(tup[1]), reverse=True)\n",
    "        return dicctionary\n",
    "\n",
    "sort_scores(scores_dicctionary)"
   ]
  },
  {
   "cell_type": "code",
   "execution_count": null,
   "metadata": {},
   "outputs": [
    {
     "data": {
      "text/plain": [
       "{'facil': 0, 'normal': 0, 'dificil': 0}"
      ]
     },
     "execution_count": 155,
     "metadata": {},
     "output_type": "execute_result"
    }
   ],
   "source": [
    "def calculate_average(dicctionary):\n",
    "    \"\"\" funcion que calcula el promedio de cada usuaro (puntaje total / cantidad de partidas) y los guarda en un diccionario \"\"\"\n",
    "    try:   \n",
    "        average_dicctionary = {}\n",
    "        for key in dicctionary:\n",
    "            average_dicctionary[key] = sum(int(tup[1]) for tup in dicctionary[key]) / len(dicctionary[key])\n",
    "    except ZeroDivisionError:\n",
    "        average_dicctionary = {}\n",
    "        for key in dicctionary:\n",
    "            average_dicctionary[key] = 0\n",
    "    return average_dicctionary\n",
    "\n",
    "calculate_average(scores_dicctionary)"
   ]
  },
  {
   "cell_type": "code",
   "execution_count": null,
   "metadata": {},
   "outputs": [
    {
     "data": {
      "text/plain": [
       "{'dhffh': 413.06666666666666,\n",
       " 'dkjsn': 413.06666666666666,\n",
       " 'dkdsn': 413.06666666666666,\n",
       " 'dhhhh': 413.06666666666666,\n",
       " 'aaaa': 100.0}"
      ]
     },
     "execution_count": 156,
     "metadata": {},
     "output_type": "execute_result"
    }
   ],
   "source": [
    "def create_average_dicctionary(dicctionary):\n",
    "    \"\"\" funcion que crea un diccionario con los promedios de puntajes de cada jugador\"\"\"\n",
    "    average_dicctionary = {}\n",
    "    try:\n",
    "        for key in dicctionary:\n",
    "            for tup in dicctionary[key]:\n",
    "                average_dicctionary[tup[0]] = sum(int(tup[1]) for tup in dicctionary[key]) / len(dicctionary[key])\n",
    "                    \n",
    "    except ZeroDivisionError:\n",
    "        average_dicctionary = {}\n",
    "        for key in dicctionary:\n",
    "            average_dicctionary[key] = 0\n",
    "    return average_dicctionary\n",
    "\n",
    "create_average_dicctionary(scores_dicctionary)\n"
   ]
  },
  {
   "cell_type": "code",
   "execution_count": null,
   "metadata": {},
   "outputs": [
    {
     "data": {
      "text/plain": [
       "{'facil': [('dhffh', '880'),\n",
       "  ('dhffh', '880'),\n",
       "  ('dhffh', '880'),\n",
       "  ('dhffh', '880'),\n",
       "  ('dhffh', '880'),\n",
       "  ('dhffh', '880'),\n",
       "  ('dhffh', '880'),\n",
       "  ('dhffh', '1'),\n",
       "  ('dhhhh', '10'),\n",
       "  ('dhhhh', '10'),\n",
       "  ('dhhhh', '10'),\n",
       "  ('dhhhh', '10'),\n",
       "  ('dhhhh', '10'),\n",
       "  ('dhhhh', '10'),\n",
       "  ('dhhhh', '10'),\n",
       "  ('dkdsn', '80'),\n",
       "  ('dkdsn', '80'),\n",
       "  ('dkdsn', '80'),\n",
       "  ('dkdsn', '80'),\n",
       "  ('dkdsn', '80'),\n",
       "  ('dkdsn', '80'),\n",
       "  ('dkdsn', '80'),\n",
       "  ('dkjsn', '800'),\n",
       "  ('dkjsn', '800'),\n",
       "  ('dkjsn', '800'),\n",
       "  ('dkjsn', '800'),\n",
       "  ('dkjsn', '800'),\n",
       "  ('dkjsn', '800'),\n",
       "  ('dkjsn', '800'),\n",
       "  ('dkjsn', '1')],\n",
       " 'normal': [('aaaa', '100'),\n",
       "  ('aaaa', '100'),\n",
       "  ('aaaa', '100'),\n",
       "  ('aaaa', '100'),\n",
       "  ('aaaa', '100'),\n",
       "  ('aaaa', '100'),\n",
       "  ('aaaa', '100'),\n",
       "  ('aaaa', '100'),\n",
       "  ('aaaa', '100'),\n",
       "  ('aaaa', '100'),\n",
       "  ('aaaa', '100')],\n",
       " 'dificil': []}"
      ]
     },
     "execution_count": 157,
     "metadata": {},
     "output_type": "execute_result"
    }
   ],
   "source": [
    "dictionary_two = scores_dicctionary\n",
    "\n",
    "def sort_dictionary_two(dictionary_two):\n",
    "    \"\"\"funcion que ordena por nombre de usuario\"\"\"\n",
    "    for key in dictionary_two:\n",
    "        dictionary_two[key].sort(key=lambda tup: tup[0])\n",
    "    return dictionary_two\n",
    "\n",
    "sort_dictionary_two(dictionary_two)"
   ]
  },
  {
   "cell_type": "code",
   "execution_count": null,
   "metadata": {},
   "outputs": [
    {
     "data": {
      "text/plain": [
       "{'dhffh': 6161, 'dhhhh': 70, 'dkdsn': 560, 'dkjsn': 5601, 'aaaa': 1100}"
      ]
     },
     "execution_count": 158,
     "metadata": {},
     "output_type": "execute_result"
    }
   ],
   "source": [
    "def combine_dictionary(dictionary):\n",
    "    dictio = {}\n",
    "    for key in dictionary:\n",
    "        for name , score in dictionary[key]:\n",
    "            dictio[name] = dictio.get(name, 0) + int(score)\n",
    "    return dictio\n",
    "\n",
    "combine_dictionary(scores_dicctionary)\n",
    "\n",
    "            "
   ]
  },
  {
   "cell_type": "code",
   "execution_count": null,
   "metadata": {},
   "outputs": [
    {
     "name": "stdout",
     "output_type": "stream",
     "text": [
      "{'facil': [('dhffh', 770.12), ('dhhhh', 10.0), ('dkdsn', 80.0), ('dkjsn', 700.12)], 'normal': [('aaaa', 100.0)]}\n"
     ]
    }
   ],
   "source": [
    "averages = {}\n",
    "def create_averages(dictionary):\n",
    "    for difficulty, scores in dictionary.items():\n",
    "        mapping = {}\n",
    "        for score in scores:\n",
    "            player = score[0]\n",
    "            points = score[1]\n",
    "            mapping.setdefault(player, {\"total_points\": 0, \"games_played\": 0})\n",
    "            mapping[player][\"total_points\"] += int(points)\n",
    "            mapping[player][\"games_played\"] += int(1)\n",
    "\n",
    "        for player, data in mapping.items():\n",
    "            averages.setdefault(difficulty, [])\n",
    "            averages[difficulty].append((player, round(data[\"total_points\"] / data[\"games_played\"], 2)))\n",
    "    \n",
    "create_averages(scores_dicctionary)\n",
    "\n",
    "print(averages)\n",
    "\n",
    "\n"
   ]
  },
  {
   "cell_type": "code",
   "execution_count": null,
   "metadata": {},
   "outputs": [
    {
     "name": "stdout",
     "output_type": "stream",
     "text": [
      "{'facil': [('dhffh', '880'), ('dhffh', '880'), ('dhffh', '880'), ('dhffh', '880'), ('dhffh', '880'), ('dhffh', '880'), ('dhffh', '880'), ('dhffh', '1'), ('dhhhh', '10'), ('dhhhh', '10'), ('dhhhh', '10'), ('dhhhh', '10'), ('dhhhh', '10'), ('dhhhh', '10'), ('dhhhh', '10'), ('dkdsn', '80'), ('dkdsn', '80'), ('dkdsn', '80'), ('dkdsn', '80'), ('dkdsn', '80'), ('dkdsn', '80'), ('dkdsn', '80'), ('dkjsn', '800'), ('dkjsn', '800'), ('dkjsn', '800'), ('dkjsn', '800'), ('dkjsn', '800'), ('dkjsn', '800'), ('dkjsn', '800'), ('dkjsn', '1')], 'normal': [('aaaa', '100'), ('aaaa', '100'), ('aaaa', '100'), ('aaaa', '100'), ('aaaa', '100'), ('aaaa', '100'), ('aaaa', '100'), ('aaaa', '100'), ('aaaa', '100'), ('aaaa', '100'), ('aaaa', '100')], 'dificil': []}\n"
     ]
    }
   ],
   "source": [
    "print(scores_dicctionary)"
   ]
  },
  {
   "cell_type": "code",
   "execution_count": null,
   "metadata": {},
   "outputs": [
    {
     "name": "stdout",
     "output_type": "stream",
     "text": [
      "[[('dhffh', 770.12), ('aaaa', 100.0)], [('dhhhh', 10.0), '-'], [('dkdsn', 80.0), '-'], [('dkjsn', 700.12), '-']]\n"
     ]
    }
   ],
   "source": [
    "df2 = pd.DataFrame(averages.values()).fillna('-')\n",
    "result = [list(x) for x in zip(*df2.values)][0:20]\n",
    "\n",
    "df = pd.DataFrame(scores_dicctionary.values()).fillna('-')\n",
    "\n",
    "print(result)"
   ]
  },
  {
   "cell_type": "code",
   "execution_count": null,
   "metadata": {},
   "outputs": [
    {
     "name": "stdout",
     "output_type": "stream",
     "text": [
      "0    (dhffh, 880)\n",
      "1     (aaaa, 100)\n",
      "2               -\n",
      "Name: 0, dtype: object\n"
     ]
    }
   ],
   "source": [
    "\n",
    "result2 = [list(x) for x in zip(*df.values)][0:20]\n",
    "\n",
    "test = df[0]\n",
    "\n",
    "\n",
    "print(test)"
   ]
  },
  {
   "cell_type": "code",
   "execution_count": null,
   "metadata": {},
   "outputs": [],
   "source": []
  }
 ],
 "metadata": {
  "kernelspec": {
   "display_name": "Python 3.10.5 ('grupo20')",
   "language": "python",
   "name": "python3"
  },
  "language_info": {
   "codemirror_mode": {
    "name": "ipython",
    "version": 3
   },
   "file_extension": ".py",
   "mimetype": "text/x-python",
   "name": "python",
   "nbconvert_exporter": "python",
   "pygments_lexer": "ipython3",
   "version": "3.10.5"
  },
  "orig_nbformat": 4,
  "vscode": {
   "interpreter": {
    "hash": "0fa4d99e435b5f2fe46ae23fd5ebebffca7fc9560893652d2d75dd1854ce3907"
   }
  }
 },
 "nbformat": 4,
 "nbformat_minor": 2
}
