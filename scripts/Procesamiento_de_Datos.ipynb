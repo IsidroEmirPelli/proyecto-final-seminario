{
 "cells": [
  {
   "cell_type": "code",
   "execution_count": null,
   "id": "e58bbc40",
   "metadata": {},
   "outputs": [],
   "source": [
    "import pandas as pd\n",
    "import matplotlib.pyplot as plt\n",
    "import os\n",
    "from scripts.gamescreen.scripts import *"
   ]
  },
  {
   "cell_type": "code",
   "execution_count": null,
   "id": "6ec48a98",
   "metadata": {},
   "outputs": [],
   "source": [
    "car_path = os.path.abspath(os.path.join(os.path.dirname(\"__file__\"), 'users'))\n",
    "file_path = os.path.join(car_path, 'registro_partidas.csv')\n",
    "datos = pd.read_csv(file_path)"
   ]
  },
  {
   "cell_type": "code",
   "execution_count": null,
   "id": "9d0ca200",
   "metadata": {},
   "outputs": [],
   "source": [
    "def level_graphic():\n",
    "    \"\"\" Porcentaje de partidas por nivel. \"\"\"\n",
    "    \n",
    "    plt.clf()\n",
    "\n",
    "    facil = datos[(datos['estado'] == 'finalizada') & (datos['nivel'] == 'Facil')]['nivel'].count()\n",
    "    normal = datos[(datos['estado'] == 'finalizada') & (datos['nivel'] == 'Normal')]['nivel'].count()\n",
    "    dificil = datos[(datos['estado'] == 'finalizada') & (datos['nivel'] == 'Dificil')]['nivel'].count()\n",
    "\n",
    "    data_dibujo = [facil, normal, dificil]\n",
    "    etiquetas = ['Facil', 'Normal', 'Dificil']\n",
    "    plt.pie(data_dibujo, labels=etiquetas, autopct='%1.1f%%', shadow=True, startangle=90, labeldistance=1.1)\n",
    "    plt.legend(etiquetas)\n",
    "    plt.title('Porcentaje de partidas finalizadas por dificultad')\n",
    "    plt.show()"
   ]
  },
  {
   "cell_type": "code",
   "execution_count": null,
   "id": "6b5311ec",
   "metadata": {},
   "outputs": [],
   "source": [
    "def partidas_estado():\n",
    "    \"\"\"Gráfico que muestre el porcentaje de partidas por estado (fin, cancelada, error, timeout).\n",
    "        También debe tener en cuenta las partidas que se terminaron inesperadamente o de forma repentina\n",
    "        (partidas sin evento de fin)\"\"\"\n",
    "\n",
    "    datos = pd.read_csv(file_path)\n",
    "\n",
    "    fin = datos[(datos['estado']) == 'finalizada']['estado'].count()\n",
    "    #cierre por falla -> error\n",
    "    col_estado = datos.loc['estado']\n",
    "    cant_error =\n",
    "\n",
    "    error = datos[(datos['estado']) == 'error']['estado'].count()\n",
    "    timeout = datos[(datos['estado']) == 'timeout']['estado'].count()\n",
    "    cancelada = datos[(datos['estado']) == 'cancelada']['estado'].count()\n",
    "\n",
    "    data_graf = [fin, error, timeout, cancelada]\n",
    "    etiquetas = ['fin', 'error', 'timeout', 'cancelada']\n",
    "    plt.pie(data_graf, labels=etiquetas, autopct='%1.1f%%', shadow=True, startangle=90, labeldistance=1.1)\n",
    "    plt.legend(etiquetas)\n",
    "    plt.title('Porcentaje de partidas por estado')\n",
    "    plt.show()\n"
   ]
  }
 ],
 "metadata": {
  "kernelspec": {
   "display_name": "Python 3 (ipykernel)",
   "language": "python",
   "name": "python3"
  },
  "language_info": {
   "codemirror_mode": {
    "name": "ipython",
    "version": 3
   },
   "file_extension": ".py",
   "mimetype": "text/x-python",
   "name": "python",
   "nbconvert_exporter": "python",
   "pygments_lexer": "ipython3",
   "version": "3.10.2"
  }
 },
 "nbformat": 4,
 "nbformat_minor": 5
}
