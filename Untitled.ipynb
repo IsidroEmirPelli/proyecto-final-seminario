{
 "cells": [
  {
   "cell_type": "code",
   "execution_count": 43,
   "id": "08f1b0ab",
   "metadata": {},
   "outputs": [],
   "source": [
    "import os\n",
    "import json\n",
    "from random import choice\n",
    "import PySimpleGUI as sg\n"
   ]
  },
  {
   "cell_type": "code",
   "execution_count": 44,
   "id": "74372351",
   "metadata": {},
   "outputs": [],
   "source": [
    "def get_config():\n",
    "    with open(PATH_CONFIG, 'r') as j:\n",
    "        config = json.load(j)\n",
    "    return config\n",
    "\n",
    "\n",
    "def select_csv():\n",
    "    paths = {\"Volcanes\": (PATH_ERUPCIONES_CSV, PATH_ERUPCIONES_PNG), \"FIFA\": (PATH_FIFA_CSV,PATH_FIFA_PNG),\n",
    "                \"Spotify\": (PATH_SPOTIFTY_CSV, PATH_SPOTIFY_PNG)}\n",
    "    config = get_config()\n",
    "    print(config.filter(lambda x: config['Datasets'][x] == True))"
   ]
  },
  {
   "cell_type": "code",
   "execution_count": 57,
   "id": "2a50692d",
   "metadata": {},
   "outputs": [
    {
     "name": "stdout",
     "output_type": "stream",
     "text": [
      "A:\\Todo\\Escritorio\\aver\\scripts\\users\n"
     ]
    }
   ],
   "source": [
    "from scripts.gamescreen.constant import *\n",
    "print(PATH_JSON)"
   ]
  },
  {
   "cell_type": "code",
   "execution_count": 58,
   "id": "df6fe1de",
   "metadata": {},
   "outputs": [
    {
     "name": "stdout",
     "output_type": "stream",
     "text": [
      "A:\\Todo\\Escritorio\\aver\\scripts\\users\n"
     ]
    }
   ],
   "source": [
    "print(PATH_JSON)"
   ]
  },
  {
   "cell_type": "code",
   "execution_count": null,
   "id": "d2b8024f",
   "metadata": {},
   "outputs": [],
   "source": []
  }
 ],
 "metadata": {
  "kernelspec": {
   "display_name": "Python 3 (ipykernel)",
   "language": "python",
   "name": "python3"
  },
  "language_info": {
   "codemirror_mode": {
    "name": "ipython",
    "version": 3
   },
   "file_extension": ".py",
   "mimetype": "text/x-python",
   "name": "python",
   "nbconvert_exporter": "python",
   "pygments_lexer": "ipython3",
   "version": "3.10.3"
  }
 },
 "nbformat": 4,
 "nbformat_minor": 5
}
