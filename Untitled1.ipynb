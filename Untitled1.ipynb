{
 "cells": [
  {
   "cell_type": "code",
   "execution_count": 1,
   "id": "7f322faa",
   "metadata": {},
   "outputs": [],
   "source": [
    "from scripts.gamescreen.scripts import *"
   ]
  },
  {
   "cell_type": "code",
   "execution_count": 2,
   "id": "644126e9",
   "metadata": {},
   "outputs": [
    {
     "name": "stdout",
     "output_type": "stream",
     "text": [
      "Spotify\n"
     ]
    }
   ],
   "source": [
    "print(select_csv())"
   ]
  },
  {
   "cell_type": "code",
   "execution_count": null,
   "id": "99d8961a",
   "metadata": {},
   "outputs": [],
   "source": []
  }
 ],
 "metadata": {
  "kernelspec": {
   "display_name": "Python 3 (ipykernel)",
   "language": "python",
   "name": "python3"
  },
  "language_info": {
   "codemirror_mode": {
    "name": "ipython",
    "version": 3
   },
   "file_extension": ".py",
   "mimetype": "text/x-python",
   "name": "python",
   "nbconvert_exporter": "python",
   "pygments_lexer": "ipython3",
   "version": "3.10.3"
  }
 },
 "nbformat": 4,
 "nbformat_minor": 5
}
